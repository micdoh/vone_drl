{
 "cells": [
  {
   "cell_type": "code",
   "execution_count": 610,
   "metadata": {
    "collapsed": true,
    "ExecuteTime": {
     "end_time": "2023-05-26T16:06:42.381654Z",
     "start_time": "2023-05-26T16:06:42.350305Z"
    }
   },
   "outputs": [],
   "source": [
    "from itertools import combinations, product, islice\n",
    "from functools import partial\n",
    "import networkx as nx\n",
    "import jax.numpy as jnp\n",
    "import json\n",
    "import jax\n",
    "import numpy as np\n",
    "import gymnax\n",
    "import chex"
   ]
  },
  {
   "cell_type": "code",
   "execution_count": 611,
   "outputs": [],
   "source": [
    "seed = 0\n",
    "rng = jax.random.PRNGKey(seed)\n",
    "rng, key_topology_request, key_slot_request, key_node_request, key_arrival_time, key_holding_time, key_traffic = jax.random.split(rng, 7)"
   ],
   "metadata": {
    "collapsed": false,
    "ExecuteTime": {
     "end_time": "2023-05-26T16:06:43.853576Z",
     "start_time": "2023-05-26T16:06:43.828248Z"
    }
   }
  },
  {
   "cell_type": "code",
   "execution_count": 637,
   "outputs": [],
   "source": [
    "@chex.dataclass\n",
    "class VONEEnvState:\n",
    "    arrival_time: chex.Array\n",
    "    link_slot_array: chex.Array\n",
    "    node_array: chex.Array\n",
    "    node_mask: chex.Array\n",
    "    path_link_array: chex.Array\n",
    "    link_slot_mask: chex.Array\n",
    "    request_array: chex.Array\n",
    "    action_counter: chex.Array\n",
    "    node_departure_array: chex.Array\n",
    "    link_slot_departure_array: chex.Array\n",
    "    selected_nodes_array: chex.Array\n",
    "    rng: chex.Array\n",
    "    key_topology_request: chex.Array\n",
    "    key_slot_request: chex.Array\n",
    "    key_node_request: chex.Array\n",
    "    key_arrival_time: chex.Array\n",
    "    key_holding_time: chex.Array\n",
    "\n",
    "@chex.dataclass(frozen=True)\n",
    "class VONEEnvParams:\n",
    "    traffic_matrix: chex.Array\n",
    "    values_nodes: chex.Array\n",
    "    values_slots: chex.Array\n",
    "    virtual_topology_patterns: chex.Array\n",
    "    num_nodes: int\n",
    "    num_links: chex.Scalar\n",
    "    node_resources: chex.Scalar\n",
    "    link_resources: chex.Scalar\n",
    "    k_paths: int\n",
    "    load: chex.Scalar\n",
    "    mean_service_holding_time: chex.Scalar\n",
    "    arrival_rate: chex.Scalar\n",
    "\n",
    "@chex.dataclass\n",
    "class RSAEnvState:\n",
    "    arrival_time: chex.Array\n",
    "    link_slot_array: chex.Array\n",
    "    path_link_array: chex.Array\n",
    "    link_slot_mask: chex.Array\n",
    "    request_array: chex.Array\n",
    "    link_slot_departure_array: chex.Array\n",
    "    rng: chex.Array\n",
    "    key_node_request: chex.Array\n",
    "    key_slot_request: chex.Array\n",
    "    key_arrival_time: chex.Array\n",
    "    key_holding_time: chex.Array\n",
    "\n",
    "@chex.dataclass(frozen=True)\n",
    "class RSAEnvParams:\n",
    "    traffic_matrix: chex.Array\n",
    "    values_slots: chex.Array\n",
    "    num_nodes: chex.Scalar\n",
    "    num_links: chex.Scalar\n",
    "    node_resources: chex.Scalar\n",
    "    link_resources: chex.Scalar\n",
    "    k_paths: chex.Scalar\n",
    "    mean_service_holding_time: chex.Scalar\n",
    "    load: chex.Scalar\n",
    "    arrival_rate: chex.Scalar"
   ],
   "metadata": {
    "collapsed": false,
    "ExecuteTime": {
     "end_time": "2023-05-26T16:56:54.181929Z",
     "start_time": "2023-05-26T16:56:54.102667Z"
    }
   }
  },
  {
   "cell_type": "code",
   "execution_count": 638,
   "outputs": [],
   "source": [
    "def init_path_link_array(graph, k):\n",
    "    \"\"\"Initialise path-link array\n",
    "    Each path is defined by a link utilisation array. 1 indicates link corrresponding to index is used, 0 indicates not used.\"\"\"\n",
    "    def get_k_shortest_paths(g, source, target, k, weight=None):\n",
    "        return list(\n",
    "            islice(nx.shortest_simple_paths(g, source, target, weight=weight), k)\n",
    "        )\n",
    "\n",
    "    paths = []\n",
    "    for node_pair in combinations(graph.nodes, 2):\n",
    "        k_paths = get_k_shortest_paths(\n",
    "            graph, node_pair[0], node_pair[1], k\n",
    "        )\n",
    "        for k_path in k_paths:\n",
    "            link_usage = [0]*len(graph.edges) # Initialise empty path\n",
    "            for link in k_path:\n",
    "                link_usage[link] = 1\n",
    "            paths.append(link_usage)\n",
    "\n",
    "    return jnp.array(paths)\n",
    "\n",
    "@partial(jax.jit, static_argnums=(2,3))\n",
    "def get_path_indices(s, d, k, N):\n",
    "    array = jnp.arange(N, dtype=jnp.int32)\n",
    "    array = jnp.where(array < s, array, 0)#array.at[s:].set(0)\n",
    "    return (N*s + d - jnp.sum(array) - 2*s - 1) * k\n",
    "\n",
    "def init_node_array(num_nodes, node_resources):\n",
    "    \"\"\"Initialize node array either with uniform resources\"\"\"\n",
    "    return jnp.array([node_resources] * num_nodes)\n",
    "\n",
    "def reset_node_array(state, params):\n",
    "    \"\"\"Reset node array in-place\"\"\"\n",
    "    state.node_array.at[:].set(params.node_resources[0])\n",
    "    return state, params\n",
    "\n",
    "def init_link_slot_array(num_links, link_resources):\n",
    "    \"\"\"Initialize link array either with uniform resources\"\"\"\n",
    "    return jnp.ones((num_links, link_resources))\n",
    "\n",
    "def reset_link_slot_array(state, params):\n",
    "    \"\"\"Reset link array in-place\"\"\"\n",
    "    state.link_slot_array.at[:].set(params.link_resources[0])\n",
    "    return state, params\n",
    "\n",
    "def init_vone_request_array(max_edges):\n",
    "    \"\"\"Initialize request array either with uniform resources\"\"\"\n",
    "    return jnp.zeros((2, max_edges*2+1, ))\n",
    "\n",
    "def reset_vone_request_array(state, params):\n",
    "    \"\"\"Reset request array in-place\"\"\"\n",
    "    state.request_array.at[:].set(0)\n",
    "    return state, params\n",
    "\n",
    "def init_rsa_request_array():\n",
    "    \"\"\"Initialize request array\"\"\"\n",
    "    return jnp.zeros(3)\n",
    "\n",
    "def reset_rsa_request_array(state, params):\n",
    "    \"\"\"Reset request array in-place\"\"\"\n",
    "    state.request_array.at[:].set(0)\n",
    "    return state, params\n",
    "\n",
    "def init_node_mask(num_nodes):\n",
    "    \"\"\"Initialize node mask\"\"\"\n",
    "    return jnp.ones(num_nodes + 1)\n",
    "\n",
    "def reset_node_mask(state, params):\n",
    "    \"\"\"Reset node mask in-place\"\"\"\n",
    "    state.node_mask.at[:].set(1)\n",
    "    return state, params\n",
    "\n",
    "def init_link_slot_mask(k, link_resources):\n",
    "    \"\"\"Initialize link mask\"\"\"\n",
    "    return jnp.ones(k*link_resources + 1)\n",
    "\n",
    "def reset_link_slot_mask(state, params):\n",
    "    \"\"\"Reset link mask in-place\"\"\"\n",
    "    state.link_slot_mask.at[:].set(1)\n",
    "    return state, params\n",
    "\n",
    "def init_action_counter():\n",
    "    \"\"\"Initialize action counter.\n",
    "    First index is num unique nodes, second index is total steps, final is remaining steps until completion of request.\"\"\"\n",
    "    return jnp.zeros(3)\n",
    "\n",
    "def reset_action_counter(state, params):\n",
    "    \"\"\"Reset action counter in-place\"\"\"\n",
    "    state.action_counter.at[:].set(0)\n",
    "    return state, params\n",
    "\n",
    "@jax.jit\n",
    "def decrement_action_counter(state, params):\n",
    "    \"\"\"Decrement action counter in-place\"\"\"\n",
    "    state.action_counter.at[-1].add(-1)\n",
    "    return state, params\n",
    "\n",
    "def init_node_departure_array(num_nodes, node_resources):\n",
    "    return jnp.full((num_nodes, node_resources), jnp.inf)\n",
    "\n",
    "def reset_node_departure_array(state, params):\n",
    "    state.node_departure_array.at[:].set(0)\n",
    "    return state, params\n",
    "\n",
    "def init_link_slot_departure_array(num_links, link_resources):\n",
    "    return jnp.full((num_links, link_resources), jnp.inf)\n",
    "\n",
    "def reset_link_slot_departure_array(state, params):\n",
    "    state.link_departure_array.at[:].set(0)\n",
    "    return state, params\n",
    "\n",
    "def init_selected_nodes_array(max_nodes):\n",
    "    \"\"\"Array to track nodes selected for virtual topology\"\"\"\n",
    "    return jnp.zeros(max_nodes)\n",
    "\n",
    "def reset_selected_nodes_array(state, params):\n",
    "    \"\"\"Reset selected nodes array in-place\"\"\"\n",
    "    state.selected_nodes_array.at[:].set(0)\n",
    "    return state, params\n",
    "\n",
    "#@jax.jit\n",
    "def generate_vone_request(state, params):\n",
    "    # TODO - update this to be bitrate requests rather than slots\n",
    "    # Define the four possible patterns for the first row\n",
    "    shape = state.request_array.shape[1]\n",
    "    # Randomly select topology, node resources, slot resources\n",
    "    pattern = jax.random.choice(state.key_topology_request, params.virtual_topology_patterns)\n",
    "    action_counter = jax.lax.dynamic_slice(pattern, (0,), (3,))#pattern[:3].copy()\n",
    "    topology_pattern = jax.lax.dynamic_slice(pattern, (3,), (pattern.shape[0]-3,))#pattern[3:].copy()\n",
    "    selected_node_values = jax.random.choice(state.key_node_request, params.values_nodes, shape=(shape,))\n",
    "    selected_slot_values = jax.random.choice(state.key_slot_request, params.values_slots, shape=(shape,))\n",
    "    # Create a mask for odd and even indices\n",
    "    mask = jnp.tile(jnp.array([0, 1]), (shape+1) // 2)[:shape]\n",
    "    # Vectorized conditional replacement using mask\n",
    "    first_row = jnp.where(mask, selected_slot_values, selected_node_values)\n",
    "    first_row = jnp.where(topology_pattern == 0, 0, first_row)\n",
    "    state.request_array = jnp.vstack((first_row, topology_pattern))\n",
    "    state.action_counter = action_counter\n",
    "    return state\n",
    "\n",
    "def normalise_traffic_matrix(traffic_matrix):\n",
    "    \"\"\"Normalise traffic matrix to sum to 1\"\"\"\n",
    "    traffic_matrix /= jnp.sum(traffic_matrix)\n",
    "    return traffic_matrix\n",
    "\n",
    "\n",
    "#@jax.jit\n",
    "def generate_rsa_request(state, params):\n",
    "    # TODO - update this to be bitrate requests rather than slots\n",
    "    # Flatten the probabilities to a 1D array\n",
    "    shape = params.traffic_matrix.shape\n",
    "    probabilities = params.traffic_matrix.ravel()\n",
    "    # Use jax.random.choice to select index based on the probabilities\n",
    "    source_dest_index = jax.random.choice(state.key_node_request, jnp.arange(params.traffic_matrix.size), p=probabilities)\n",
    "    # Convert 1D index back to 2D\n",
    "    source, dest = jnp.unravel_index(source_dest_index, shape)\n",
    "    # Vectorized conditional replacement using mask\n",
    "    slots = jax.random.choice(state.key_slot_request, values_slots)\n",
    "    state.request_array = jnp.stack((source, dest, slots))\n",
    "    return state, params\n",
    "\n",
    "@partial(jax.jit, static_argnums=(1,2))\n",
    "def get_paths(state, k, N, source, dest):\n",
    "    \"\"\"Get k paths between source and destination\"\"\"\n",
    "    i = get_path_indices(source, dest, k, N)\n",
    "    return jnp.take(state.path_link_array, jnp.arange(i, i+k), axis=0)\n",
    "\n",
    "def traffic_generator(state):\n",
    "    # TODO - figure out how to scale these with load etc (multiply by e^load or similar?)\n",
    "    state.arrival_time +=  jax.random.exponential(key_arrival_time, shape=(1,))\n",
    "    holding_time = jax.random.exponential(key_holding_time, shape=(1,)) * jnp.exp\n",
    "    departure_time = state.arrival_time + holding_time\n",
    "\n",
    "@jax.jit\n",
    "def decrease_last_element(array):\n",
    "    last_value_mask = jnp.arange(array.shape[0]) == array.shape[0] - 1\n",
    "    return jnp.where(last_value_mask, array - 1, array)\n"
   ],
   "metadata": {
    "collapsed": false,
    "ExecuteTime": {
     "end_time": "2023-05-26T16:56:54.980639Z",
     "start_time": "2023-05-26T16:56:54.940168Z"
    }
   }
  },
  {
   "cell_type": "code",
   "execution_count": 643,
   "outputs": [
    {
     "name": "stdout",
     "output_type": "stream",
     "text": [
      "<class 'int'>\n",
      "<class 'int'>\n",
      "<class 'int'>\n",
      "<class 'int'>\n"
     ]
    }
   ],
   "source": [
    "# Generate the shortest path-link table\n",
    "k = 2\n",
    "graph = nx.node_link_graph(json.load(open('topologies/conus.json')))\n",
    "# 7 node ring\n",
    "# graph = nx.from_numpy_array(jnp.array([[0, 1, 0, 0, 0, 0, 1],\n",
    "#                                        [1, 0, 1, 0, 0, 0, 0],\n",
    "#                                        [0, 1, 0, 1, 0, 0, 0],\n",
    "#                                        [0, 0, 1, 0, 1, 0, 0],\n",
    "#                                        [0, 0, 0, 1, 0, 1, 0],\n",
    "#                                        [0, 0, 0, 0, 1, 0, 1],\n",
    "#                                        [1, 0, 0, 0, 0, 1, 0]]))\n",
    "arrival_time = 0.0\n",
    "load = 100.0\n",
    "mean_service_holding_time = 10.0\n",
    "arrival_rate = load / mean_service_holding_time\n",
    "num_nodes = len(graph.nodes)\n",
    "num_links = len(graph.edges)\n",
    "node_resources = 30\n",
    "link_resources = 100\n",
    "\n",
    "path_link_array = init_path_link_array(graph, k)\n",
    "node_array = init_node_array(num_nodes, node_resources)\n",
    "node_departure_array = init_node_departure_array(num_nodes, node_resources)\n",
    "node_mask = init_node_mask(num_nodes)\n",
    "link_slot_array = init_link_slot_array(num_links, link_resources)\n",
    "link_slot_departure_array = init_link_slot_departure_array(num_links, link_resources)\n",
    "link_slot_mask = init_link_slot_mask(k, link_resources)\n",
    "vone_request_array = init_vone_request_array(5)\n",
    "rsa_request_array = init_rsa_request_array()\n",
    "selected_nodes_array = init_selected_nodes_array(5)\n",
    "# First three values are for action counter\n",
    "virtual_topology_patterns = jnp.array([\n",
    "    [3,2,2, 2,1,3,1,4,0,0,0,0,0,0],\n",
    "    [3,3,3, 2,1,3,1,4,1,2,0,0,0,0],\n",
    "    [5,4,4, 2,1,3,1,4,1,5,1,6,0,0],\n",
    "    [5,5,5, 2,1,3,1,4,1,5,1,6,1,2]\n",
    "], dtype=jnp.int32)\n",
    "action_counter = init_action_counter()\n",
    "traffic_matrix = jax.random.uniform(key_traffic, shape=(num_nodes, num_nodes))\n",
    "traffic_matrix = normalise_traffic_matrix(traffic_matrix)\n",
    "values_nodes = jnp.arange(1, 3)\n",
    "values_slots = jnp.arange(1, 5)\n",
    "\n",
    "env_state = VONEEnvState(\n",
    "    arrival_time=arrival_time,\n",
    "    link_slot_array=link_slot_array,\n",
    "    node_array=node_array,\n",
    "    node_mask=node_mask,\n",
    "    path_link_array=path_link_array,\n",
    "    link_slot_mask=link_slot_mask,\n",
    "    request_array=vone_request_array,\n",
    "    action_counter=action_counter,\n",
    "    node_departure_array=node_departure_array,\n",
    "    link_slot_departure_array=link_slot_departure_array,\n",
    "    selected_nodes_array=selected_nodes_array,\n",
    "    rng=rng,\n",
    "    key_topology_request=key_topology_request,\n",
    "    key_slot_request=key_slot_request,\n",
    "    key_node_request=key_node_request,\n",
    "    key_arrival_time=key_arrival_time,\n",
    "    key_holding_time=key_holding_time,\n",
    ")\n",
    "\n",
    "env_params = VONEEnvParams(\n",
    "    traffic_matrix=traffic_matrix,\n",
    "    values_nodes=values_nodes,\n",
    "    values_slots=values_slots,\n",
    "    mean_service_holding_time=mean_service_holding_time,\n",
    "    virtual_topology_patterns=virtual_topology_patterns,\n",
    "    k_paths=k,\n",
    "    node_resources=node_resources,\n",
    "    link_resources=link_resources,\n",
    "    num_nodes=num_nodes,\n",
    "    num_links=num_links,\n",
    "    load=load,\n",
    "    arrival_rate=arrival_rate,\n",
    ")\n",
    "\n",
    "rsa_env_state = RSAEnvState(\n",
    "    arrival_time=arrival_time,\n",
    "    link_slot_array=link_slot_array,\n",
    "    path_link_array=path_link_array,\n",
    "    link_slot_mask=link_slot_mask,\n",
    "    request_array=rsa_request_array,\n",
    "    link_slot_departure_array=link_slot_departure_array,\n",
    "    rng=rng,\n",
    "    key_node_request=key_node_request,\n",
    "    key_slot_request=key_slot_request,\n",
    "    key_arrival_time=key_arrival_time,\n",
    "    key_holding_time=key_holding_time,\n",
    ")\n",
    "\n",
    "rsa_env_params = RSAEnvParams(\n",
    "    traffic_matrix=traffic_matrix,\n",
    "    values_slots=values_slots,\n",
    "    mean_service_holding_time=mean_service_holding_time,\n",
    "    k_paths=k,\n",
    "    node_resources=node_resources,\n",
    "    link_resources=link_resources,\n",
    "    num_nodes=num_nodes,\n",
    "    num_links=num_links,\n",
    "    load=load,\n",
    "    arrival_rate=arrival_rate,\n",
    ")\n",
    "print(type(k))\n",
    "print(type(num_nodes))\n",
    "print(type(env_params.k_paths))\n",
    "print(type(env_params.num_nodes))"
   ],
   "metadata": {
    "collapsed": false,
    "ExecuteTime": {
     "end_time": "2023-05-26T16:58:39.166539Z",
     "start_time": "2023-05-26T16:58:32.126145Z"
    }
   }
  },
  {
   "cell_type": "code",
   "execution_count": 644,
   "outputs": [
    {
     "name": "stdout",
     "output_type": "stream",
     "text": [
      "[0. 0. 0.]\n",
      "[[0. 0. 0. 0. 0. 0. 0. 0. 0. 0. 0.]\n",
      " [0. 0. 0. 0. 0. 0. 0. 0. 0. 0. 0.]]\n",
      "[3 2 2]\n",
      "[[1 2 1 3 2 0 0 0 0 0 0]\n",
      " [2 1 3 1 4 0 0 0 0 0 0]]\n"
     ]
    }
   ],
   "source": [
    "print(env_state.action_counter)\n",
    "print(env_state.request_array)\n",
    "generate_vone_request(env_state, env_params)\n",
    "print(env_state.action_counter)\n",
    "print(env_state.request_array)"
   ],
   "metadata": {
    "collapsed": false,
    "ExecuteTime": {
     "end_time": "2023-05-26T16:58:52.099068Z",
     "start_time": "2023-05-26T16:58:52.075429Z"
    }
   }
  },
  {
   "cell_type": "code",
   "execution_count": 647,
   "outputs": [
    {
     "name": "stdout",
     "output_type": "stream",
     "text": [
      "[1 2 1 3 2 0 0 0 0 0 0]\n",
      "[3 2 2]\n",
      "[1 3 2]\n",
      "[3 2 2]\n",
      "[3 2 2]\n",
      "<class 'int'>\n",
      "<class 'int'>\n",
      "<class 'jaxlib.xla_extension.ArrayImpl'>\n",
      "<class 'jaxlib.xla_extension.ArrayImpl'>\n"
     ]
    }
   ],
   "source": [
    "request_array = env_state.request_array[0]\n",
    "print(request_array)\n",
    "action_counter = env_state.action_counter\n",
    "print(action_counter)\n",
    "request = jax.lax.dynamic_slice(\n",
    "    request_array,\n",
    "    ((action_counter[-1]-1)*2, ),\n",
    "    (3, )\n",
    ")\n",
    "print(request)\n",
    "env_state, env_params = decrement_action_counter(env_state, env_params)\n",
    "print(env_state.action_counter)\n",
    "action_counter=jnp.array([3,2,2])\n",
    "decrease_last_element(action_counter)\n",
    "print(action_counter)\n",
    "\n",
    "print(type(k))\n",
    "print(type(num_nodes))\n",
    "print(type(env_params.k_paths))\n",
    "print(type(env_params.num_nodes))"
   ],
   "metadata": {
    "collapsed": false,
    "ExecuteTime": {
     "end_time": "2023-05-26T16:59:17.888057Z",
     "start_time": "2023-05-26T16:59:17.831628Z"
    }
   }
  },
  {
   "cell_type": "code",
   "execution_count": 642,
   "outputs": [
    {
     "name": "stdout",
     "output_type": "stream",
     "text": [
      "<class 'jaxlib.xla_extension.ArrayImpl'>\n",
      "<class 'jaxlib.xla_extension.ArrayImpl'>\n"
     ]
    },
    {
     "ename": "ValueError",
     "evalue": "Non-hashable static arguments are not supported. An error occurred during a call to 'implement_vone_action' while trying to hash an object of type <class 'jaxlib.xla_extension.ArrayImpl'>, 2. The error was:\nTypeError: unhashable type: 'ArrayImpl'\n",
     "output_type": "error",
     "traceback": [
      "\u001B[0;31m---------------------------------------------------------------------------\u001B[0m",
      "\u001B[0;31mValueError\u001B[0m                                Traceback (most recent call last)",
      "Cell \u001B[0;32mIn[642], line 40\u001B[0m\n\u001B[1;32m     38\u001B[0m \u001B[38;5;28mprint\u001B[39m(\u001B[38;5;28mtype\u001B[39m(env_params\u001B[38;5;241m.\u001B[39mk_paths))\n\u001B[1;32m     39\u001B[0m \u001B[38;5;28mprint\u001B[39m(\u001B[38;5;28mtype\u001B[39m(env_params\u001B[38;5;241m.\u001B[39mnum_nodes))\n\u001B[0;32m---> 40\u001B[0m \u001B[43mimplement_vone_action\u001B[49m\u001B[43m(\u001B[49m\u001B[43menv_state\u001B[49m\u001B[43m,\u001B[49m\u001B[43m \u001B[49m\u001B[43menv_params\u001B[49m\u001B[38;5;241;43m.\u001B[39;49m\u001B[43mk_paths\u001B[49m\u001B[43m,\u001B[49m\u001B[43m \u001B[49m\u001B[43menv_params\u001B[49m\u001B[38;5;241;43m.\u001B[39;49m\u001B[43mnum_nodes\u001B[49m\u001B[43m,\u001B[49m\u001B[43m \u001B[49m\u001B[43mjnp\u001B[49m\u001B[38;5;241;43m.\u001B[39;49m\u001B[43marray\u001B[49m\u001B[43m(\u001B[49m\u001B[43m[\u001B[49m\u001B[38;5;241;43m0\u001B[39;49m\u001B[43m,\u001B[49m\u001B[38;5;241;43m1\u001B[39;49m\u001B[43m,\u001B[49m\u001B[38;5;241;43m2\u001B[39;49m\u001B[43m]\u001B[49m\u001B[43m)\u001B[49m\u001B[43m)\u001B[49m\n",
      "\u001B[0;31mValueError\u001B[0m: Non-hashable static arguments are not supported. An error occurred during a call to 'implement_vone_action' while trying to hash an object of type <class 'jaxlib.xla_extension.ArrayImpl'>, 2. The error was:\nTypeError: unhashable type: 'ArrayImpl'\n"
     ]
    }
   ],
   "source": [
    "# TODO - Check if changing float arrays to int arrays when appropriate improves performance\n",
    "# TODO - When writing the env, have one key that gets split into multiple keys each step/reset (to avoid lots of splitting within each random function)\n",
    "# TODO - Remember to check out HiPPO initialisation and SSMs\n",
    "# TODO - Set departure time values to negative initially, then set back to infinite or turn positive when finalising\n",
    "# TODO - Implement checks\n",
    "# TODO - Implement masking\n",
    "# TODO - Consider implementing dataclasses for request attributes e.g. node request, slot request, etc.\n",
    "\n",
    "def no_update_link(link, initial_slot, num_slots, value):\n",
    "    return link\n",
    "\n",
    "def update_link(link, initial_slot, num_slots, value):\n",
    "    slot_indices = jnp.arange(link.shape[0])\n",
    "    return jnp.where((initial_slot <= slot_indices) & (slot_indices <= initial_slot+num_slots), value, link)\n",
    "\n",
    "def update_path(link, link_in_path, initial_slot, num_slots, value):\n",
    "    return jax.lax.cond(link_in_path == 1, lambda x: update_link(*x), lambda x: no_update_link(*x), (link, initial_slot, num_slots, value))\n",
    "\n",
    "@jax.jit\n",
    "def vmap_update_path_links(link_array, path, initial_slot, num_slots, value):\n",
    "    return jax.vmap(update_path, in_axes=(0, 0, None, None, None))(link_array, path, initial_slot, num_slots, value)\n",
    "\n",
    "@partial(jax.jit, static_argnums=(1,2))\n",
    "def implement_vone_action(state, k, N, action):\n",
    "    # TODO - why is action counter immutable?\n",
    "    # TODO - figure out how the node action will be implemented (2 nodes first move, 1 node thereafter)\n",
    "    request = jax.lax.dynamic_slice(state.request_array[0], ((state.action_counter[-1]-1)*2, ), (3, ))\n",
    "    print(f\"Request: {request}\")\n",
    "    #jax.lax.cond(# Implement two nodes if count[2]==counter[1] # Otherwise one node (check state.selected_nodes)\n",
    "    s_node, d_node = jnp.sort(action[:2]) # get source and destination nodes in order (for accurate indexing of path-link array)\n",
    "    path_index = jnp.floor(action[2] / state.link_slot_array.shape[0])\n",
    "    path_index = path_index.astype(jnp.int32)\n",
    "    initial_slot_index = jnp.mod(action[2], state.link_slot_array.shape[0])\n",
    "    path = get_paths(state, k, N, s_node, d_node)[path_index]\n",
    "    num_slots = 6\n",
    "    state.link_slot_array = vmap_update_path_links(state.link_slot_array, path, initial_slot_index, num_slots, 1)\n",
    "    return state.link_slot_array\n",
    "print(type(env_params.k_paths))\n",
    "print(type(env_params.num_nodes))\n",
    "implement_vone_action(env_state, env_params.k_paths, env_params.num_nodes, jnp.array([0,1,2]))"
   ],
   "metadata": {
    "collapsed": false,
    "ExecuteTime": {
     "end_time": "2023-05-26T16:57:04.794492Z",
     "start_time": "2023-05-26T16:57:04.700416Z"
    }
   }
  },
  {
   "cell_type": "code",
   "execution_count": 536,
   "outputs": [],
   "source": [],
   "metadata": {
    "collapsed": false,
    "ExecuteTime": {
     "end_time": "2023-05-26T14:50:40.084679Z",
     "start_time": "2023-05-26T14:50:40.075503Z"
    }
   }
  },
  {
   "cell_type": "code",
   "execution_count": 516,
   "outputs": [],
   "source": [],
   "metadata": {
    "collapsed": false,
    "ExecuteTime": {
     "end_time": "2023-05-26T14:31:00.350070Z",
     "start_time": "2023-05-26T14:31:00.329878Z"
    }
   }
  },
  {
   "cell_type": "markdown",
   "source": [],
   "metadata": {
    "collapsed": false
   }
  },
  {
   "cell_type": "code",
   "execution_count": 536,
   "outputs": [],
   "source": [],
   "metadata": {
    "collapsed": false,
    "ExecuteTime": {
     "end_time": "2023-05-26T14:50:42.324288Z",
     "start_time": "2023-05-26T14:50:42.317415Z"
    }
   }
  },
  {
   "cell_type": "code",
   "execution_count": 438,
   "outputs": [],
   "source": [],
   "metadata": {
    "collapsed": false,
    "ExecuteTime": {
     "end_time": "2023-05-25T16:57:33.959002Z",
     "start_time": "2023-05-25T16:57:33.953679Z"
    }
   }
  },
  {
   "cell_type": "code",
   "execution_count": 438,
   "outputs": [],
   "source": [],
   "metadata": {
    "collapsed": false,
    "ExecuteTime": {
     "end_time": "2023-05-25T16:57:34.232593Z",
     "start_time": "2023-05-25T16:57:34.196726Z"
    }
   }
  },
  {
   "cell_type": "code",
   "execution_count": 456,
   "outputs": [
    {
     "name": "stdout",
     "output_type": "stream",
     "text": [
      "[0. 0. 0. 0. 0. 0. 0. 0. 0. 0.]\n"
     ]
    },
    {
     "data": {
      "text/plain": "Array([9., 9., 9., 0., 0., 0., 0., 9., 0., 0.], dtype=float32)"
     },
     "execution_count": 456,
     "metadata": {},
     "output_type": "execute_result"
    }
   ],
   "source": [
    "def add_one(elem):\n",
    "    return elem + 1\n",
    "\n",
    "def add_one_conditional(elem, other_elem):\n",
    "    return jax.lax.cond(other_elem == 1, lambda x: x + 9, lambda x: x, elem)\n",
    "\n",
    "@jax.jit\n",
    "def vmap_add_one_conditional(array, path):\n",
    "    return jax.vmap(add_one_conditional, in_axes=(0, 0))(array, path)\n",
    "\n",
    "path = jnp.array([1,1,1,0,0,0,0,1,0,0])\n",
    "array = jnp.zeros(10)\n",
    "print(array)\n",
    "vmap_add_one_conditional(array, path)\n"
   ],
   "metadata": {
    "collapsed": false,
    "ExecuteTime": {
     "end_time": "2023-05-26T08:51:38.554453Z",
     "start_time": "2023-05-26T08:51:38.395446Z"
    }
   }
  },
  {
   "cell_type": "code",
   "execution_count": 453,
   "outputs": [],
   "source": [],
   "metadata": {
    "collapsed": false,
    "ExecuteTime": {
     "end_time": "2023-05-26T08:50:44.498876Z",
     "start_time": "2023-05-26T08:50:44.469531Z"
    }
   }
  },
  {
   "cell_type": "code",
   "execution_count": 438,
   "outputs": [],
   "source": [],
   "metadata": {
    "collapsed": false,
    "ExecuteTime": {
     "end_time": "2023-05-25T16:57:35.884794Z",
     "start_time": "2023-05-25T16:57:35.873586Z"
    }
   }
  },
  {
   "cell_type": "code",
   "execution_count": 560,
   "outputs": [
    {
     "name": "stdout",
     "output_type": "stream",
     "text": [
      "[1 2 3 4 1]\n"
     ]
    }
   ],
   "source": [
    "@jax.jit\n",
    "def decrease_last_element(array):\n",
    "    last_value_mask = jnp.arange(array.shape[0]) == array.shape[0] - 1\n",
    "    return jnp.where(last_value_mask, array - 1, array)\n",
    "\n",
    "#array = jnp.array([1, 2, 3, 4, 5])\n",
    "array = decrease_last_element(array)\n",
    "\n",
    "print(array)  # prints: [1 2 3 4 4]"
   ],
   "metadata": {
    "collapsed": false,
    "ExecuteTime": {
     "end_time": "2023-05-26T15:06:11.037106Z",
     "start_time": "2023-05-26T15:06:10.960015Z"
    }
   }
  },
  {
   "cell_type": "code",
   "execution_count": null,
   "outputs": [],
   "source": [
    "def init_path_link_arra_old(graph, k):\n",
    "\n",
    "    def get_k_shortest_paths(g, source, target, k, weight=None):\n",
    "        return list(\n",
    "            islice(nx.shortest_simple_paths(g, source, target, weight=weight), k)\n",
    "        )\n",
    "\n",
    "    def create_path_link_dict(graph, k):\n",
    "        link_selection_dict = {}\n",
    "        for node_pair in combinations(graph.nodes, 2):\n",
    "            k_paths = get_k_shortest_paths(\n",
    "                graph, node_pair[0], node_pair[1], k\n",
    "            )\n",
    "            link_selection_dict[node_pair] = k_paths\n",
    "            #self.link_selection_dict[(node_pair[1], node_pair[0])] = k_paths\n",
    "        return link_selection_dict\n",
    "\n",
    "    def find_longest_path_length(dictionary):\n",
    "        return max(\n",
    "            len(sublist) for list_of_lists in dictionary.values()\n",
    "            for sublist in list_of_lists if\n",
    "            isinstance(list_of_lists, list) and all(isinstance(sublist, list)\n",
    "            for sublist in list_of_lists)\n",
    "        )\n",
    "\n",
    "    def ensure_same_number_of_paths(dictionary, k):\n",
    "        for item in dictionary.values():\n",
    "            if isinstance(item, list) and all(isinstance(sublist, list) for sublist in item):\n",
    "                while len(item) < k:\n",
    "                    item.append([])\n",
    "        return dictionary\n",
    "\n",
    "    path_link_dict = create_path_link_dict(graph, k)\n",
    "    path_link_dict = ensure_same_number_of_paths(path_link_dict, k)\n",
    "    longest_length = find_longest_path_length(path_link_dict)\n",
    "    sublists = []\n",
    "\n",
    "    for sublist_list in path_link_dict.values():\n",
    "        if isinstance(sublist_list, list) and all(isinstance(sublist, list) for sublist in sublist_list):\n",
    "            for sublist in sublist_list:\n",
    "                padded_sublist = sublist + [jnp.nan] * (longest_length - len(sublist))\n",
    "                sublists.append(padded_sublist)\n",
    "\n",
    "    return jnp.array(sublists)\n",
    "\n",
    "\n",
    "def update_slot_conditional(slot_value, slot_index, initial_slot, num_slots, value):\n",
    "    return jax.lax.cond(initial_slot <= slot_index <= initial_slot+num_slots, lambda x: update_slot(slot_value, value), lambda x: no_update_slot(slot_value, value), (slot_value, value))\n",
    "    # update_values = jnp.ones(100)\n",
    "    # print(update_values)\n",
    "    # update_values = update_values.at[:num_slots].set(value)\n",
    "    # print(update_values)\n",
    "    # return jax.lax.dynamic_update_slice(link, update_values, (0,))\n",
    "\n",
    "def vmap_update_slot_conditional(link, initial_slot, num_slots, value):\n",
    "    slot_indices = jnp.arange(100)\n",
    "    return jax.vmap(update_slot_conditional, in_axes=(0, 0, None, None, None))(link, slot_indices, initial_slot, num_slots, value)\n",
    "\n",
    "# def update_link_conditional(link, link_in_path, initial_slot, num_slots, value):\n",
    "#     return jax.lax.cond(link_in_path == 1, lambda x: vmap_update_slot_conditional(*x), lambda x: no_update_slot_conditional(*x), (link, initial_slot, num_slots, value))\n",
    "\n",
    "def update_link_where(link, initial_slot, num_slots, value):\n",
    "    slot_indices = jnp.arange(100)\n",
    "    return jnp.where((initial_slot <= slot_indices) & (slot_indices <= initial_slot+num_slots), value, link)\n",
    "\n",
    "def update_link_conditional(link, link_in_path, initial_slot, num_slots, value):\n",
    "    return jax.lax.cond(link_in_path == 1, lambda x: update_link_where(*x), lambda x: no_update_link(*x), (link, initial_slot, num_slots, value))\n",
    "\n",
    "@jax.jit\n",
    "def vmap_update_link(link_array, path, initial_slot, num_slots, value):\n",
    "    return jax.vmap(update_link_conditional, in_axes=(0, 0, None, None, None))(link_array, path, initial_slot, num_slots, value)\n",
    "\n",
    "def update_slot(slot_value, value):\n",
    "    return value\n",
    "\n",
    "def no_update_slot(slot_value, value):\n",
    "    return slot_value\n",
    "\n",
    "def no_update_slot_conditional(link, initial_slot, num_slots, value):\n",
    "    return link\n",
    "\n",
    "\n",
    "def no_update_link(link, initial_slot, num_slots, value):\n",
    "    return link\n",
    "\n",
    "def update_link_conditional_new(link, link_in_path, initial_slot, num_slots, value):\n",
    "    return jax.lax.cond(link_in_path == 1, lambda x: update_link(*x), lambda x: no_update_link(*x), (link, initial_slot, num_slots, value))\n",
    "\n",
    "#@jax.jit\n",
    "def vmap_update_link_conditional_new(link_array, path, initial_slot, num_slots, value):\n",
    "    return jax.vmap(update_link_conditional_new, in_axes=(0, 0, None, None, None))(link_array, path, initial_slot, num_slots, value)\n",
    "\n",
    "def update_link_1(link, initial_slot, value):\n",
    "    update_values = jnp.full((1, ), value)\n",
    "    return jax.lax.dynamic_update_slice(link, update_values, (initial_slot,))\n",
    "\n",
    "def update_link_2(link, initial_slot, value):\n",
    "    update_values = jnp.full((2, ), value)\n",
    "    return jax.lax.dynamic_update_slice(link, update_values, (initial_slot,))\n",
    "\n",
    "def update_link_3(link, initial_slot, value):\n",
    "    update_values = jnp.full((3, ), value)\n",
    "    return jax.lax.dynamic_update_slice(link, update_values, (initial_slot,))\n",
    "\n",
    "def update_link_4(link, initial_slot, value):\n",
    "    update_values = jnp.full((4, ), value)\n",
    "    return jax.lax.dynamic_update_slice(link, update_values, (initial_slot,))\n",
    "\n",
    "def update_link_5(link, initial_slot, value):\n",
    "    update_values = jnp.full((5, ), value)\n",
    "    return jax.lax.dynamic_update_slice(link, update_values, (initial_slot,))\n",
    "\n",
    "def no_update(link, initial_slot, value):\n",
    "    return link\n",
    "\n",
    "def no_update_conditional(link, link_in_path, initial_slot, value):\n",
    "    return link\n",
    "\n",
    "def update_link_conditional_1(link, link_in_path, initial_slot, value):\n",
    "    return jax.lax.cond(link_in_path == 1, lambda x: update_link_1(*x), lambda x: no_update(*x), (link, initial_slot, value))\n",
    "\n",
    "def update_link_conditional_2(link, link_in_path, initial_slot, value):\n",
    "    return jax.lax.cond(link_in_path == 1, lambda x: update_link_2(*x), lambda x: no_update(*x), (link, initial_slot, value))\n",
    "\n",
    "def update_link_conditional_3(link, link_in_path, initial_slot, value):\n",
    "    return jax.lax.cond(link_in_path == 1, lambda x: update_link_3(*x), lambda x: no_update(*x), (link, initial_slot, value))\n",
    "\n",
    "def update_link_conditional_4(link, link_in_path, initial_slot, value):\n",
    "    return jax.lax.cond(link_in_path == 1, lambda x: update_link_4(*x), lambda x: no_update(*x), (link, initial_slot, value))\n",
    "\n",
    "def update_link_conditional_5(link, link_in_path, initial_slot, value):\n",
    "    return jax.lax.cond(link_in_path == 1, lambda x: update_link_5(*x), lambda x: no_update(*x), (link, initial_slot, value))\n",
    "\n",
    "#TODO - Problem - jax.lax.switch cannot be jitted\n",
    "#def update_link_conditional(num_slots, branches, link, link_in_path, initial_slot, value):\n",
    "#    return jax.lax.switch(num_slots, branches, *(link, link_in_path, initial_slot, value))\n",
    "\n",
    "#@jax.jit\n",
    "def vmap_update_link_conditional(num_slots, branches, link_array, path, initial_slot, value):\n",
    "    return jax.vmap(update_link_conditional, in_axes=(None, None, 0, 0, None, None))(num_slots, branches, link_array, path, initial_slot, value)\n",
    "\n",
    "branches = [no_update_conditional, update_link_conditional_1, update_link_conditional_2, update_link_conditional_3, update_link_conditional_4, update_link_conditional_5]\n"
   ],
   "metadata": {
    "collapsed": false
   }
  }
 ],
 "metadata": {
  "kernelspec": {
   "display_name": "Python 3",
   "language": "python",
   "name": "python3"
  },
  "language_info": {
   "codemirror_mode": {
    "name": "ipython",
    "version": 2
   },
   "file_extension": ".py",
   "mimetype": "text/x-python",
   "name": "python",
   "nbconvert_exporter": "python",
   "pygments_lexer": "ipython2",
   "version": "2.7.6"
  }
 },
 "nbformat": 4,
 "nbformat_minor": 0
}
